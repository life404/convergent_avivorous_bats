{
 "cells": [
  {
   "cell_type": "code",
   "execution_count": 1,
   "id": "4d28333b",
   "metadata": {
    "tags": []
   },
   "outputs": [],
   "source": [
    "from pathlib import Path\n",
    "import pandas as pd\n",
    "import numpy as np\n",
    "from scipy import stats"
   ]
  },
  {
   "cell_type": "code",
   "execution_count": null,
   "id": "65b20c4e",
   "metadata": {
    "tags": []
   },
   "outputs": [],
   "source": [
    "# the symbol of human gene was designated as the name of the single-copy orthologous genes\n",
    "anno = pd.read_csv('./Orthologs_to_Symbol.txt', header=None, sep=',', names=['OG', 'Symbol'])"
   ]
  },
  {
   "cell_type": "markdown",
   "id": "e413bd57",
   "metadata": {},
   "source": [
    "## Positively Selection Analysis"
   ]
  },
  {
   "cell_type": "markdown",
   "id": "49822417",
   "metadata": {},
   "source": [
    "### Ia io \n",
    "the I. io was chosen as foreground branch, with N. aviator was excluded from background branches"
   ]
  },
  {
   "cell_type": "code",
   "execution_count": null,
   "id": "956b7c24",
   "metadata": {
    "tags": []
   },
   "outputs": [],
   "source": [
    "IaIo = pd.read_csv('codeml.IaIo.results', header=0, sep='\\t')\n",
    "# load the w ratios estimated by using two-ratio model and one-ration model\n",
    "pressure = pd.read_csv('IaIo.omega', header=0, sep='\\t') \n",
    "\n",
    "IaIo = pd.merge(anno, IaIo, on='OG')\n",
    "\n",
    "# the positively selected genes were identified by using Model A v.s. Model null\n",
    "IaIo_psg = IaIo[IaIo.Model == 'Ma:Man']\n",
    "\n",
    "# the rapidly evoloved gens were identified by using two-ratio model v.s. one-ratio model\n",
    "IaIo_reg = IaIo[IaIo.Model == 'two:one']\n",
    "IaIo_reg = pd.merge(IaIo_reg, pressure, on='OG')"
   ]
  },
  {
   "cell_type": "code",
   "execution_count": null,
   "id": "4f7402bf",
   "metadata": {
    "tags": []
   },
   "outputs": [],
   "source": [
    "# significance\n",
    "IaIo_psg_sig = IaIo_psg[IaIo_psg.pvalue < 0.05]\n",
    "IaIo_reg_sig = IaIo_reg[(IaIo_reg.pvalue < 0.05)&(IaIo_reg.fore > IaIo_reg.back)]"
   ]
  },
  {
   "cell_type": "code",
   "execution_count": null,
   "id": "85c941b7",
   "metadata": {},
   "outputs": [],
   "source": [
    "# save the results of psg and reg\n",
    "IaIo_reg_sig.to_csv('IaIo.sig.reg.csv', header=True, index=False)\n",
    "IaIo_psg_sig.to_csv('IaIo.sig.psg.csv', header=True, index=False)"
   ]
  },
  {
   "cell_type": "markdown",
   "id": "eb765d61",
   "metadata": {},
   "source": [
    "### Nyatalus aviator \n",
    "the N. aviator was chosen as foreground branch, with I. io was excluded from background branches"
   ]
  },
  {
   "cell_type": "code",
   "execution_count": 11,
   "id": "13214447",
   "metadata": {
    "tags": []
   },
   "outputs": [],
   "source": [
    "NycAvi = pd.read_csv('codeml.NycAvi.results', header=0, sep='\\t')\n",
    "# load the w ratios estimated by using two-ratio model and one-ratio model\n",
    "pressure = pd.read_csv('NycAvi.omega', header=0, sep='\\t')\n",
    "\n",
    "NycAvi = pd.merge(anno, NycAvi, on='OG')\n",
    "\n",
    "NycAvi_reg = NycAvi[NycAvi.Model == 'two:one']\n",
    "NycAvi_reg = pd.merge(NycAvi_reg, pressure, on='OG')\n",
    "NycAvi_psg = NycAvi[NycAvi.Model == 'Ma:Man']"
   ]
  },
  {
   "cell_type": "code",
   "execution_count": 13,
   "id": "414d2fb0",
   "metadata": {
    "tags": []
   },
   "outputs": [],
   "source": [
    "# significance\n",
    "NycAvi_psg_sig = NycAvi_psg[NycAvi_psg.pvalue < 0.05]\n",
    "NycAvi_reg_sig = NycAvi_reg[(NycAvi_reg.pvalue < 0.05)&(NycAvi_reg.fore > NycAvi_reg.back)]"
   ]
  },
  {
   "cell_type": "code",
   "execution_count": null,
   "id": "88c5823b",
   "metadata": {},
   "outputs": [],
   "source": [
    "NycAvi_reg_sig.to_csv('IaIo.sig.reg.csv', header=True, index=False)\n",
    "NycAvi_psg_sig.to_csv('NycAvi.sig.psg.csv', header=True, index=False)"
   ]
  },
  {
   "cell_type": "markdown",
   "id": "40a5916c",
   "metadata": {},
   "source": [
    "## Estimated the selective pressures of genes related to immunity"
   ]
  },
  {
   "cell_type": "markdown",
   "id": "ea11a741",
   "metadata": {},
   "source": [
    "Based on the key worlds to obtain gene sets related to 'adaptative immunity', 'innate immunity', and 'antiviral defense' "
   ]
  },
  {
   "cell_type": "code",
   "execution_count": 5,
   "id": "0aa54458",
   "metadata": {
    "tags": []
   },
   "outputs": [],
   "source": [
    "# 'antiviral defensence'\n",
    "virus = pd.read_excel('/Users/gengyang/Downloads/kw.virus.xlsx', header=0, sheet_name = 'Annotation')\n",
    "virus = pd.merge(anno, virus, left_on='Symbol', right_on='hits')\n",
    "virus = virus[virus['Membership: virus']==1]"
   ]
  },
  {
   "cell_type": "code",
   "execution_count": 7,
   "id": "7cab7540",
   "metadata": {
    "tags": []
   },
   "outputs": [],
   "source": [
    "# 'innate immunity'\n",
    "innate = pd.read_excel('/Users/gengyang/Downloads/kw.innate_immune.xlsx', header=0, sheet_name = 'Annotation')\n",
    "innate = innate[innate['Membership: innate immune'] == 1]\n",
    "innate = pd.merge(anno, innate, left_on='Symbol', right_on='hits')"
   ]
  },
  {
   "cell_type": "code",
   "execution_count": 8,
   "id": "ae31be3f",
   "metadata": {
    "tags": []
   },
   "outputs": [],
   "source": [
    "# 'adaptative immunity'\n",
    "adaptive = pd.read_excel('/Users/gengyang/Downloads/kw.adaptative_immune.xlsx', header=0, sheet_name = 'Annotation')\n",
    "adaptive = adaptive[adaptive['Membership: adaptive immune'] == 1]\n",
    "adaptive = pd.merge(anno, adaptive, left_on='Symbol', right_on='hits')"
   ]
  },
  {
   "cell_type": "markdown",
   "id": "09e56926",
   "metadata": {},
   "source": [
    "load the pressures data of *I. io* and *N. aviator*"
   ]
  },
  {
   "cell_type": "code",
   "execution_count": 8,
   "id": "a12a9bbe",
   "metadata": {},
   "outputs": [],
   "source": [
    "IaIo_omega = pd.read_csv('IaIo.omega', header=0, sep='\\t')\n",
    "NycAvi_omega = pd.read_csv('NycAvi.omega', header=0, sep='\\t')\n",
    "IaIo_omega = IaIo_omega[~((IaIo_omega.back == '-') | (IaIo_omega.fore == '-'))]\n",
    "NycAvi_omega = NycAvi_omega[~((NycAvi_omega.back == '-') | (NycAvi_omega.fore == '-'))]\n",
    "IaIo_omega[['back', 'fore']] = IaIo_omega[['back', 'fore']].astype(float)\n",
    "NycAvi_omega[['back', 'fore']] = NycAvi_omega[['back', 'fore']].astype(float)"
   ]
  },
  {
   "cell_type": "code",
   "execution_count": 9,
   "id": "77ffce05",
   "metadata": {},
   "outputs": [],
   "source": [
    "# pressures of genes linked to 'antiviral defensence'\n",
    "IaIo_omega_virus = IaIo_omega[IaIo_omega.OG.isin(antiviral.OG)]\n",
    "NycAvi_omega_virus = NycAvi_omega[NycAvi_omega.OG.isin(antiviral.OG)]\n",
    "# pressures of genes linked to 'innate immunity'\n",
    "IaIo_omega_innate = IaIo_omega[IaIo_omega.OG.isin(innate.OG)]\n",
    "NycAvi_omega_innate = NycAvi_omega[NycAvi_omega.OG.isin(innate.OG)]\n",
    "# pressures of genes linked to 'adaptative immunity'\n",
    "IaIo_omega_adaptive = IaIo_omega[IaIo_omega.OG.isin(adaptive.OG)]\n",
    "NycAvi_omega_adaptive = NycAvi_omega[NycAvi_omega.OG.isin(adaptive.OG)]"
   ]
  },
  {
   "cell_type": "code",
   "execution_count": 12,
   "id": "fead0a0e",
   "metadata": {},
   "outputs": [
    {
     "data": {
      "text/plain": [
       "TtestResult(statistic=2.060661748192677, pvalue=0.020247801486661676, df=223.00094684883672)"
      ]
     },
     "execution_count": 12,
     "metadata": {},
     "output_type": "execute_result"
    }
   ],
   "source": [
    "# the significance of changes of 'adaptative immunity'\n",
    "stats.ttest_ind(IaIo_omega_adaptive.fore, IaIo_omega_adaptive.back, alternative='greater', equal_var=False)\n",
    "stats.ttest_ind(NycAvi_omega_adaptive.fore, NycAvi_omega_adaptive.back, alternative='greater', equal_var=False)"
   ]
  },
  {
   "cell_type": "code",
   "execution_count": 13,
   "id": "1ae51aaa",
   "metadata": {},
   "outputs": [
    {
     "data": {
      "text/plain": [
       "TtestResult(statistic=1.7461683170778253, pvalue=0.041079366938232005, df=223.00125911463707)"
      ]
     },
     "execution_count": 13,
     "metadata": {},
     "output_type": "execute_result"
    }
   ],
   "source": [
    "# the significance of changes of 'innate immunity'\n",
    "stats.ttest_ind(NycAvi_omega_adaptive.fore, NycAvi_omega_adaptive.back, alternative='greater', equal_var=False)\n",
    "stats.ttest_ind(NycAvi_omega_innate.fore, NycAvi_omega_innate.back, alternative='greater', equal_var=False)"
   ]
  },
  {
   "cell_type": "code",
   "execution_count": 165,
   "id": "6a6978cd",
   "metadata": {},
   "outputs": [
    {
     "data": {
      "text/plain": [
       "TtestResult(statistic=1.4910312026075163, pvalue=0.06815145889101036, df=902.0)"
      ]
     },
     "execution_count": 165,
     "metadata": {},
     "output_type": "execute_result"
    }
   ],
   "source": [
    "# the significance of changes of 'antiviral defense'\n",
    "stats.ttest_ind(IaIo_omega_virus.fore, IaIo_omega_virus.back, alternative='greater', equal_var=True)\n",
    "stats.ttest_ind(NycAvi_omega_virus.fore, NycAvi_omega_virus.back, alternative='greater', equal_var=True)"
   ]
  },
  {
   "cell_type": "code",
   "execution_count": 17,
   "id": "831292c4",
   "metadata": {},
   "outputs": [],
   "source": [
    "# save the results\n",
    "IaIo_omega_innate.to_csv('IaIo_omega_innate.tsv', header=True, index=False, sep='\\t')\n",
    "NycAvi_omega_innate.to_csv('NycAvi_omega_innate.tsv', header=True, index=False, sep='\\t')\n",
    "\n",
    "IaIo_omega_adaptive.to_csv('IaIo_omega_adaptive.tsv', header=True, index=False, sep='\\t')\n",
    "NycAvi_omega_adaptive.to_csv('NycAvi_omega_adaptive.tsv', header=True, index=False, sep='\\t')\n",
    "\n",
    "IaIo_omega_virus.to_csv('IaIo_omega_virus.tsv', header=True, index=False, sep='\\t')\n",
    "NycAvi_omega_virus.to_csv('NycAvi_omega_virus.tsv', header=True, index=False, sep='\\t')"
   ]
  },
  {
   "cell_type": "markdown",
   "id": "d76b7c32",
   "metadata": {},
   "source": [
    "## RERconvergent analysis"
   ]
  },
  {
   "cell_type": "code",
   "execution_count": 4,
   "id": "72d42f05",
   "metadata": {},
   "outputs": [],
   "source": [
    "RER = pd.read_csv('RERconverge.results', header=0, sep='\\t')\n",
    "RER = pd.merge(anno, RER, left_on='OG', right_on='gene')\n",
    "RER.drop(columns='gene', inplace=True)"
   ]
  },
  {
   "cell_type": "code",
   "execution_count": 6,
   "id": "6b1b45db",
   "metadata": {},
   "outputs": [],
   "source": [
    "RER.to_csv('avivorous.RER.csv', header=True, index=False)"
   ]
  },
  {
   "cell_type": "markdown",
   "id": "ffbaa82c",
   "metadata": {},
   "source": [
    "## Identified convergent amino acid substitutations by using Zou and Zhang's method"
   ]
  },
  {
   "cell_type": "code",
   "execution_count": 3,
   "id": "68ca45cb",
   "metadata": {
    "tags": []
   },
   "outputs": [],
   "source": [
    "# the convergent amino acid substitutations identified under f-site and f-gene model, respectively\n",
    "# f-site model\n",
    "site = pd.read_csv('conv_site.tsv', header=0, sep='\\t')\n",
    "site = pd.merge(anno, site, on='OG')\n",
    "# f-gene model\n",
    "gene = pd.read_csv('conv_gene.tsv', header=0, sep='\\t')\n",
    "gene = pd.merge(anno, gene, on='OG')"
   ]
  },
  {
   "cell_type": "code",
   "execution_count": 4,
   "id": "0e602e01",
   "metadata": {
    "tags": []
   },
   "outputs": [],
   "source": [
    "# poisson test \n",
    "site['p_sig'] = site.apply(lambda x: stats.poisson.pmf(x['parallel_obs'], x['parallel_exp']), axis=1)\n",
    "site['c_sig'] = site.apply(lambda x: stats.poisson.pmf(x['converge_obs'], x['converge_exp']), axis=1)\n",
    "\n",
    "gene['p_sig'] = site.apply(lambda x: stats.poisson.pmf(x['parallel_obs'], x['parallel_exp']), axis=1)\n",
    "gene['c_sig'] = site.apply(lambda x: stats.poisson.pmf(x['converge_obs'], x['converge_exp']), axis=1)"
   ]
  },
  {
   "cell_type": "code",
   "execution_count": 5,
   "id": "11aadc74",
   "metadata": {
    "tags": []
   },
   "outputs": [],
   "source": [
    "# Finally, we have chosen the result of the f-site model as the final result.\n",
    "site_bird['p_fdr'] = stats.false_discovery_control(site_bird.p_sig)\n",
    "site_bird['c_fdr'] = stats.false_discovery_control(site_bird.c_sig)\n",
    "\n",
    "bird_parallel = site[(site.group == 'NycAvi,IaIo') & (site.p_sig < 0.05) & (site.parallel_obs > 0)]\n",
    "bird_converge = site[(site.group == 'NycAvi,IaIo') & (site.c_sig < 0.05) & (site.converge_obs > 0)]"
   ]
  },
  {
   "cell_type": "code",
   "execution_count": 6,
   "id": "f2343b87",
   "metadata": {
    "tags": []
   },
   "outputs": [],
   "source": [
    "# save final result\n",
    "site_bird[site_bird.p_fdr < 0.05].to_csv('avivorous.conv.site.csv', header=True, index=False)"
   ]
  },
  {
   "cell_type": "code",
   "execution_count": null,
   "id": "6c77367a",
   "metadata": {},
   "outputs": [],
   "source": [
    "# the intersection between results of RERconvergence and conv_cale\n",
    "RER[RER.Symbol.isin(['APOA1', 'CPT1B', 'CPT2', 'CYP7A1', 'ANGPTL4', 'CEPT1'])]"
   ]
  },
  {
   "cell_type": "markdown",
   "id": "00a245ea",
   "metadata": {},
   "source": [
    "##  Gene Family Evolution"
   ]
  },
  {
   "cell_type": "code",
   "execution_count": 13,
   "id": "9fd1f257",
   "metadata": {},
   "outputs": [],
   "source": [
    "# load data of significant evoloved gene families in N. aviator\n",
    "NycAvi_sig_exp = pd.read_csv('NycAvi_sig_exp.tsv', header=0, sep=',')\n",
    "NycAvi_sig_con = pd.read_csv('NycAvi_sig_con.tsv', header=0, sep=',')\n",
    "\n",
    "# load data of significant evoloved gene families in I. io\n",
    "IaIo_sig_exp = pd.read_csv('IaIo_sig_exp.tsv', header=0, sep=',')\n",
    "IaIo_sig_con = pd.read_csv('IaIo_sig_con.tsv', header=0, sep=',')"
   ]
  },
  {
   "cell_type": "markdown",
   "id": "9b3f1408",
   "metadata": {},
   "source": [
    "##  Gene Loss Identification"
   ]
  },
  {
   "cell_type": "code",
   "execution_count": 212,
   "id": "d49666bf",
   "metadata": {},
   "outputs": [],
   "source": [
    "# load the results of TOGA\n",
    "IaIo_loss =   pd.read_csv('Iaio.loss_summ_data.tsv',   header=None, names=['type', 'gene', 'IaIo'],   sep='\\t')\n",
    "NycAvi_loss = pd.read_csv('NycAvi.loss_summ_data.tsv', header=None, names=['type', 'gene', 'NycAvi'], sep='\\t')\n",
    "RouAeg_loss = pd.read_csv('RouAeg.loss_summ_data.tsv', header=None, names=['type', 'gene', 'RouAeg'], sep='\\t')\n",
    "PteAle_loss = pd.read_csv('PteAle.loss_summ_data.tsv', header=None, names=['type', 'gene', 'PteAle'], sep='\\t')\n",
    "HipArm_loss = pd.read_csv('HipArm.loss_summ_data.tsv', header=None, names=['type', 'gene', 'HipArm'], sep='\\t')\n",
    "RhiFer_loss = pd.read_csv('RhiFer.loss_summ_data.tsv', header=None, names=['type', 'gene', 'RhiFer'], sep='\\t')\n",
    "DesRot_loss = pd.read_csv('DesRot.loss_summ_data.tsv', header=None, names=['type', 'gene', 'DesRot'], sep='\\t')\n",
    "PhyDis_loss = pd.read_csv('PhyDis.loss_summ_data.tsv', header=None, names=['type', 'gene', 'PhyDis'], sep='\\t')\n",
    "ArtJam_loss = pd.read_csv('ArtJam.loss_summ_data.tsv', header=None, names=['type', 'gene', 'ArtJam'], sep='\\t')\n",
    "MolMol_loss = pd.read_csv('MolMol.loss_summ_data.tsv', header=None, names=['type', 'gene', 'MolMol'], sep='\\t')\n",
    "MinNat_loss = pd.read_csv('MinNat.loss_summ_data.tsv', header=None, names=['type', 'gene', 'MinNat'], sep='\\t')\n",
    "MyoMyo_loss = pd.read_csv('MyoMyo.loss_summ_data.tsv', header=None, names=['type', 'gene', 'MyoMyo'], sep='\\t')\n",
    "MyoDav_loss = pd.read_csv('MyoDav.loss_summ_data.tsv', header=None, names=['type', 'gene', 'MyoDav'], sep='\\t')\n",
    "PipKuh_loss = pd.read_csv('PipKuh.loss_summ_data.tsv', header=None, names=['type', 'gene', 'PipKuh'], sep='\\t')\n",
    "EptFus_loss = pd.read_csv('EptFus.loss_summ_data.tsv', header=None, names=['type', 'gene', 'EptFus'], sep='\\t')"
   ]
  },
  {
   "cell_type": "code",
   "execution_count": 215,
   "id": "fc6a7020",
   "metadata": {},
   "outputs": [],
   "source": [
    "# filter the gene loss events that are only present in I. io and N. aviator\n",
    "bat_loss = IaIo_loss\n",
    "for i in [NycAvi_loss, RouAeg_loss, PteAle_loss, HipArm_loss, RhiFer_loss, DesRot_loss, PhyDis_loss, ArtJam_loss, MolMol_loss, MinNat_loss, MyoMyo_loss, MyoDav_loss, PipKuh_loss, EptFus_loss]:\n",
    "    bat_loss = pd.merge(bat_loss, i, on=['type', 'gene'])\n",
    "bat_loss = bat_loss[bat_loss.type == 'GENE']\n",
    "bat_loss[(bat_loss.apply(lambda x: len(x[x=='L']), axis = 1)==2) & (bat_loss.IaIo == 'L') & (bat_loss.NycAvi == 'L')]"
   ]
  },
  {
   "cell_type": "code",
   "execution_count": 197,
   "id": "806c3bfd",
   "metadata": {},
   "outputs": [],
   "source": [
    "IaIo_loss = IaIo_loss[(IaIo_loss.type == 'GENE') & (IaIo_loss.stats == 'L')]\n",
    "NycAvi_loss = NycAvi_loss[(NycAvi_loss.type == 'GENE') & (NycAvi_loss.stats == 'L')]"
   ]
  }
 ],
 "metadata": {
  "kernelspec": {
   "display_name": "Python 3 (ipykernel)",
   "language": "python",
   "name": "python3"
  },
  "language_info": {
   "codemirror_mode": {
    "name": "ipython",
    "version": 3
   },
   "file_extension": ".py",
   "mimetype": "text/x-python",
   "name": "python",
   "nbconvert_exporter": "python",
   "pygments_lexer": "ipython3",
   "version": "3.10.12"
  }
 },
 "nbformat": 4,
 "nbformat_minor": 5
}
